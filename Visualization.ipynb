{
 "cells": [
  {
   "cell_type": "markdown",
   "metadata": {},
   "source": [
    "## Import Libs"
   ]
  },
  {
   "cell_type": "code",
   "execution_count": 9,
   "metadata": {},
   "outputs": [],
   "source": [
    "import re\n",
    "import sys\n",
    "\n",
    "import numpy as np\n",
    "import pandas as pd\n",
    "\n",
    "import matplotlib.pyplot as plt\n",
    "import matplotlib.ticker as ticker\n",
    "\n",
    "from scipy import stats\n",
    "from scipy.interpolate import make_interp_spline, BSpline\n",
    "\n",
    "norm = stats.norm(loc=0, scale=1)"
   ]
  },
  {
   "cell_type": "markdown",
   "metadata": {},
   "source": [
    "## Global Variables"
   ]
  },
  {
   "cell_type": "code",
   "execution_count": 95,
   "metadata": {},
   "outputs": [],
   "source": [
    "# constants\n",
    "labels = ['KSM', 'No KSM']\n",
    "array_size = [32768]"
   ]
  },
  {
   "cell_type": "code",
   "execution_count": 96,
   "metadata": {},
   "outputs": [],
   "source": [
    "data_ksm = {}\n",
    "data_without_ksm = {}"
   ]
  },
  {
   "cell_type": "markdown",
   "metadata": {},
   "source": [
    "### Reading Files"
   ]
  },
  {
   "cell_type": "code",
   "execution_count": 97,
   "metadata": {},
   "outputs": [],
   "source": [
    "import glob\n",
    "import errno\n",
    "\n",
    "# int(filter(str.isdigit, str1))\n",
    "\n",
    "base_path_logs = './logs/'\n",
    "\n",
    "with_madvise_logs_path = base_path_logs + 'with_madvise/'\n",
    "without_madvise_logs_path = base_path_logs + 'without_madvise/'\n",
    "\n",
    "for arr in array_size:\n",
    "    if data_ksm.get(arr) == None:\n",
    "        data_ksm[arr] = []\n",
    "        \n",
    "    if data_without_ksm.get(arr) == None:\n",
    "        data_without_ksm[arr] = []\n",
    "        \n",
    "    with_madvise_logs = glob.glob(with_madvise_logs_path + 'size_' + str(arr) + '/*.log')\n",
    "    for name in with_madvise_logs:\n",
    "        try:\n",
    "            with open(name) as f:\n",
    "                for line in f:\n",
    "                    if line.find('with_madvise (') != -1:\n",
    "                        temp = [float(s) for s in re.findall(r'-?\\d+\\.?\\d*', line)]\n",
    "                        data_ksm[arr].append({\n",
    "                            \"process\": int(temp[3]),\n",
    "                            \"private\": temp[0],\n",
    "                            \"shared\": temp[1],\n",
    "                            \"total\": temp[2]\n",
    "                        })\n",
    "        except IOError as exc:\n",
    "            if exc.errno != errno.EISDIR:\n",
    "                raise\n",
    "                \n",
    "    data_ksm[arr] = sorted(data_ksm[arr], key=lambda k: k['process']) \n",
    "                \n",
    "    without_madvise_logs = glob.glob(without_madvise_logs_path + 'size_' + str(arr) + '/*.log')\n",
    "    for name in without_madvise_logs:\n",
    "        try:\n",
    "            with open(name) as f:\n",
    "                for line in f:\n",
    "                    if line.find('without_madvise (') != -1:\n",
    "                        temp = [float(s) for s in re.findall(r'-?\\d+\\.?\\d*', line)]\n",
    "                        data_without_ksm[arr].append({\n",
    "                            \"process\": int(temp[3]),\n",
    "                            \"private\": temp[0],\n",
    "                            \"shared\": temp[1],\n",
    "                            \"total\": temp[2]\n",
    "                        })\n",
    "        except IOError as exc:\n",
    "            if exc.errno != errno.EISDIR:\n",
    "                raise\n",
    "                \n",
    "    data_without_ksm[arr] = sorted(data_without_ksm[arr], key=lambda k: k['process']) "
   ]
  },
  {
   "cell_type": "code",
   "execution_count": 98,
   "metadata": {},
   "outputs": [
    {
     "data": {
      "text/plain": [
       "{32768: [{'process': 10, 'private': 820.0, 'shared': 94.0, 'total': 914.0},\n",
       "  {'process': 10, 'private': 848.0, 'shared': 93.0, 'total': 941.0},\n",
       "  {'process': 15, 'private': 1.2, 'shared': 139.5, 'total': 1.4},\n",
       "  {'process': 20, 'private': 1.6, 'shared': 172.0, 'total': 1.8},\n",
       "  {'process': 25, 'private': 2.0, 'shared': 211.5, 'total': 2.2},\n",
       "  {'process': 30, 'private': 2.4, 'shared': 246.0, 'total': 2.7},\n",
       "  {'process': 35, 'private': 2.9, 'shared': 281.5, 'total': 3.1},\n",
       "  {'process': 40, 'private': 3.2, 'shared': 306.0, 'total': 3.5},\n",
       "  {'process': 45, 'private': 3.6, 'shared': 339.5, 'total': 4.0},\n",
       "  {'process': 50, 'private': 4.1, 'shared': 361.0, 'total': 4.4},\n",
       "  {'process': 100, 'private': 8.1, 'shared': 634.0, 'total': 8.7},\n",
       "  {'process': 200, 'private': 30.0, 'shared': 904.0, 'total': 30.9},\n",
       "  {'process': 300, 'private': 51.5, 'shared': 1.0, 'total': 52.5},\n",
       "  {'process': 400, 'private': 69.0, 'shared': 1.1, 'total': 70.1},\n",
       "  {'process': 500, 'private': 86.5, 'shared': 1.2, 'total': 87.7},\n",
       "  {'process': 5000, 'private': 874.1, 'shared': 2.4, 'total': 876.6}]}"
      ]
     },
     "execution_count": 98,
     "metadata": {},
     "output_type": "execute_result"
    }
   ],
   "source": [
    "data_ksm"
   ]
  },
  {
   "cell_type": "code",
   "execution_count": 99,
   "metadata": {},
   "outputs": [
    {
     "data": {
      "text/plain": [
       "{32768: [{'process': 5, 'private': 888.0, 'shared': 48.5, 'total': 936.5},\n",
       "  {'process': 10, 'private': 1.8, 'shared': 89.0, 'total': 1.8},\n",
       "  {'process': 15, 'private': 2.6, 'shared': 128.5, 'total': 2.8},\n",
       "  {'process': 20, 'private': 3.5, 'shared': 164.0, 'total': 3.7},\n",
       "  {'process': 25, 'private': 4.4, 'shared': 201.5, 'total': 4.6},\n",
       "  {'process': 30, 'private': 5.2, 'shared': 236.0, 'total': 5.5},\n",
       "  {'process': 35, 'private': 6.1, 'shared': 264.5, 'total': 6.4},\n",
       "  {'process': 40, 'private': 7.0, 'shared': 296.0, 'total': 7.3},\n",
       "  {'process': 45, 'private': 7.9, 'shared': 321.5, 'total': 8.2},\n",
       "  {'process': 50, 'private': 8.8, 'shared': 345.0, 'total': 9.1},\n",
       "  {'process': 100, 'private': 17.5, 'shared': 561.0, 'total': 18.1},\n",
       "  {'process': 200, 'private': 35.0, 'shared': 899.0, 'total': 35.9},\n",
       "  {'process': 300, 'private': 52.5, 'shared': 1.0, 'total': 53.5},\n",
       "  {'process': 400, 'private': 70.1, 'shared': 1.1, 'total': 71.2},\n",
       "  {'process': 500, 'private': 87.4, 'shared': 1.2, 'total': 88.6},\n",
       "  {'process': 5000, 'private': 875.0, 'shared': 2.4, 'total': 877.5}]}"
      ]
     },
     "execution_count": 99,
     "metadata": {},
     "output_type": "execute_result"
    }
   ],
   "source": [
    "data_without_ksm"
   ]
  },
  {
   "cell_type": "markdown",
   "metadata": {},
   "source": [
    "## Plot"
   ]
  },
  {
   "cell_type": "code",
   "execution_count": 5,
   "metadata": {},
   "outputs": [],
   "source": [
    "\n",
    "\n",
    "dat = [latency_zero, latency_twenty, latency_hundred]\n",
    "throughput = {}\n",
    "throughput[labels[0]] = 37.58974551742285\n",
    "throughput[labels[1]] = 37.41534777565757\n",
    "throughput[labels[2]] = 37.34827264239029\n",
    "\n",
    "qe_latency_twenty, pe_latency_twenty = ecdf(latency_twenty)\n",
    "q_latency_twenty = np.linspace(qe_latency_twenty[0], qe_latency_twenty[-1], 1000)\n",
    "p_latency_twenty = norm.cdf(q_latency_twenty)\n",
    "\n",
    "qe_latency_zero, pe_latency_zero = ecdf(latency_zero)\n",
    "q_latency_zero = np.linspace(qe_latency_zero[0], qe_latency_zero[-1], 1000)\n",
    "p_latency_zero = norm.cdf(q_latency_zero)\n",
    "\n",
    "qe_latency_hundred, pe_latency_hundred = ecdf(latency_hundred)\n",
    "q_latency_hundred = np.linspace(qe_latency_hundred[0], qe_latency_hundred[-1], 1000)\n",
    "p_latency_hundred = norm.cdf(q_latency_hundred)\n",
    "\n",
    "fig, (ax1, ax2) = plt.subplots(1, 2, sharey=False, figsize=(10, 4))\n",
    "\n",
    "ax1.plot(base_latency_zero[:-1], cumulative_latency_zero / 1000, 'red', lw=2, label='No delay')\n",
    "ax1.plot(base_latency_twenty[:-1], cumulative_latency_twenty / 1000, 'blue', lw=2, label='20% 20ms delay')\n",
    "ax1.plot(base_latency_hundred[:-1], cumulative_latency_hundred / 1000, 'black', lw=2, label='100% 20ms delay')\n",
    "ax1.set\n",
    "ax1.set_xlabel('Latency (ms)')\n",
    "ax1.set_ylabel('Percentile')\n",
    "ax1.set_title('Empirical CDF')\n",
    "\n",
    "ax2.plot(qe_latency_zero, pe_latency_zero, 'red', lw=2, label='No delay')\n",
    "ax2.plot(qe_latency_twenty, pe_latency_twenty, 'blue', lw=2, label='20% 20ms delay')\n",
    "ax2.plot(qe_latency_hundred, pe_latency_hundred, 'black', lw=2, label='100% 20ms delay')\n",
    "ax2.set_xlabel('Latency (ms)')\n",
    "ax2.set_ylabel('Percentile')\n",
    "ax2.set_title('Theoritical CDF')\n",
    "\n",
    "props = dict(boxstyle='round', facecolor='lightcyan', alpha=0.5)\n",
    "\n",
    "textstr = ''\n",
    "\n",
    "for i in range(len(labels)):\n",
    "    textstr = '\\n'.join([info_text(labels[i], dat[i], throughput[labels[i]]) for i in range(len(labels))])\n",
    "\n",
    "plt.text(1.1, 1.02, textstr, transform=ax2.transAxes,\n",
    "    verticalalignment='top', bbox=props, fontname='monospace')\n",
    "\n",
    "plt.legend(bbox_to_anchor=(-0.8, -0.29, 2., .102),\n",
    "               loc=3, ncol=3,  borderaxespad=0.,\n",
    "               labels=labels)\n",
    "plt.suptitle(\"Cassandra Latency Emulation (3 nodes)\", y=1.05)\n",
    "\n",
    "plt.show()\n",
    "\n",
    "# fig.set_size_inches(18.5, 10.5, forward=True)\n",
    "fig.savefig(\"result.png\", dpi=100, bbox_inches=\"tight\")"
   ]
  }
 ],
 "metadata": {
  "kernelspec": {
   "display_name": "Python 3",
   "language": "python",
   "name": "python3"
  },
  "language_info": {
   "codemirror_mode": {
    "name": "ipython",
    "version": 3
   },
   "file_extension": ".py",
   "mimetype": "text/x-python",
   "name": "python",
   "nbconvert_exporter": "python",
   "pygments_lexer": "ipython3",
   "version": "3.6.7"
  }
 },
 "nbformat": 4,
 "nbformat_minor": 2
}
